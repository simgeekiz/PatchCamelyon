{
 "cells": [
  {
   "cell_type": "code",
   "execution_count": 1,
   "metadata": {},
   "outputs": [],
   "source": [
    "%load_ext autoreload\n",
    "%autoreload 2"
   ]
  },
  {
   "cell_type": "code",
   "execution_count": 2,
   "metadata": {},
   "outputs": [
    {
     "name": "stderr",
     "output_type": "stream",
     "text": [
      "Using TensorFlow backend.\n"
     ]
    }
   ],
   "source": [
    "import os\n",
    "import numpy as np\n",
    "\n",
    "from keras.callbacks import ReduceLROnPlateau\n",
    "from keras.models import Model, load_model\n",
    "from keras.optimizers import SGD, Adam\n",
    "from keras.layers import Dense, Dropout, GlobalAveragePooling2D, Input, GlobalAveragePooling2D, GlobalMaxPooling2D, Flatten, Concatenate\n",
    "# Conv2D, Input, Flatten, MaxPooling2D, UpSampling2D, concatenate, Cropping2D, Reshape, BatchNormalization\n",
    "\n",
    "from keras.applications.nasnet import NASNetLarge\n",
    "from keras.applications import VGG16, VGG19\n",
    "\n",
    "%matplotlib inline"
   ]
  },
  {
   "cell_type": "code",
   "execution_count": 3,
   "metadata": {},
   "outputs": [],
   "source": [
    "from keras.layers import Dense, concatenate\n",
    "from keras.models import Model, load_model"
   ]
  },
  {
   "cell_type": "code",
   "execution_count": 4,
   "metadata": {},
   "outputs": [
    {
     "name": "stderr",
     "output_type": "stream",
     "text": [
      "WARNING: Logging before flag parsing goes to stderr.\n",
      "W0610 19:35:12.563905 140072833486976 deprecation_wrapper.py:119] From /home/aorus/workspaces/simge/PatchCamelyon/utils/comparams.py:1: The name tf.local_variables_initializer is deprecated. Please use tf.compat.v1.local_variables_initializer instead.\n",
      "\n"
     ]
    }
   ],
   "source": [
    "from utils.preprocess import multiple_batch_generator\n",
    "from utils.callbacks import PlotCurves\n",
    "from utils.load_data import load_data\n",
    "from utils.comparams import calculate_auc, auc"
   ]
  },
  {
   "cell_type": "markdown",
   "metadata": {},
   "source": [
    "### Data Preparation"
   ]
  },
  {
   "cell_type": "code",
   "execution_count": 5,
   "metadata": {},
   "outputs": [],
   "source": [
    "data_dir = './data/'"
   ]
  },
  {
   "cell_type": "code",
   "execution_count": 6,
   "metadata": {},
   "outputs": [
    {
     "data": {
      "text/plain": [
       "(10000, 10000)"
      ]
     },
     "execution_count": 6,
     "metadata": {},
     "output_type": "execute_result"
    }
   ],
   "source": [
    "x_train, y_train, x_valid, y_valid = load_data(data_dir, purpose='train', \n",
    "                                               limit=10000, val_limit=10000, is_gzip=True)\n",
    "len(x_train), len(x_valid)"
   ]
  },
  {
   "cell_type": "code",
   "execution_count": 7,
   "metadata": {},
   "outputs": [],
   "source": [
    "# indexes\n",
    "train_id = np.arange(len(x_train))\n",
    "val_id = np.arange(len(x_valid))\n",
    "\n",
    "# create a useful dictionary structures\n",
    "partition = {}\n",
    "partition['train'] = train_id\n",
    "partition['validation'] = val_id\n",
    "    \n",
    "train_labels = {str(i) : y_train[i].flatten()[0] for i in train_id}\n",
    "val_labels = {str(i) : y_valid[i].flatten()[0] for i in val_id}"
   ]
  },
  {
   "cell_type": "code",
   "execution_count": 8,
   "metadata": {},
   "outputs": [],
   "source": [
    "del train_id\n",
    "del val_id\n",
    "del data_dir"
   ]
  },
  {
   "cell_type": "markdown",
   "metadata": {},
   "source": [
    "# MODEL"
   ]
  },
  {
   "cell_type": "code",
   "execution_count": 9,
   "metadata": {},
   "outputs": [],
   "source": [
    "dependencies = {\n",
    "    'auc': auc\n",
    "}"
   ]
  },
  {
   "cell_type": "markdown",
   "metadata": {},
   "source": [
    "#### VGG16"
   ]
  },
  {
   "cell_type": "code",
   "execution_count": 10,
   "metadata": {
    "collapsed": true
   },
   "outputs": [
    {
     "name": "stderr",
     "output_type": "stream",
     "text": [
      "W0610 19:36:52.951092 140072833486976 deprecation_wrapper.py:119] From /home/aorus/workspaces/simge/PatchCamelyon/.env/lib/python3.6/site-packages/keras/backend/tensorflow_backend.py:517: The name tf.placeholder is deprecated. Please use tf.compat.v1.placeholder instead.\n",
      "\n",
      "W0610 19:36:52.962406 140072833486976 deprecation_wrapper.py:119] From /home/aorus/workspaces/simge/PatchCamelyon/.env/lib/python3.6/site-packages/keras/backend/tensorflow_backend.py:4138: The name tf.random_uniform is deprecated. Please use tf.random.uniform instead.\n",
      "\n",
      "W0610 19:36:52.978968 140072833486976 deprecation_wrapper.py:119] From /home/aorus/workspaces/simge/PatchCamelyon/.env/lib/python3.6/site-packages/keras/backend/tensorflow_backend.py:3976: The name tf.nn.max_pool is deprecated. Please use tf.nn.max_pool2d instead.\n",
      "\n",
      "W0610 19:36:53.184886 140072833486976 deprecation_wrapper.py:119] From /home/aorus/workspaces/simge/PatchCamelyon/.env/lib/python3.6/site-packages/keras/backend/tensorflow_backend.py:174: The name tf.get_default_session is deprecated. Please use tf.compat.v1.get_default_session instead.\n",
      "\n",
      "W0610 19:36:53.185407 140072833486976 deprecation_wrapper.py:119] From /home/aorus/workspaces/simge/PatchCamelyon/.env/lib/python3.6/site-packages/keras/backend/tensorflow_backend.py:181: The name tf.ConfigProto is deprecated. Please use tf.compat.v1.ConfigProto instead.\n",
      "\n",
      "W0610 19:36:53.712656 140072833486976 deprecation_wrapper.py:119] From /home/aorus/workspaces/simge/PatchCamelyon/.env/lib/python3.6/site-packages/keras/optimizers.py:790: The name tf.train.Optimizer is deprecated. Please use tf.compat.v1.train.Optimizer instead.\n",
      "\n",
      "W0610 19:36:53.717464 140072833486976 deprecation_wrapper.py:119] From /home/aorus/workspaces/simge/PatchCamelyon/.env/lib/python3.6/site-packages/keras/backend/tensorflow_backend.py:3378: The name tf.nn.sigmoid_cross_entropy_with_logits is deprecated. Please use tf.nn.sigmoid_cross_entropy_with_logits instead.\n",
      "\n",
      "W0610 19:36:53.718992 140072833486976 deprecation.py:323] From /home/aorus/workspaces/simge/PatchCamelyon/.env/lib/python3.6/site-packages/tensorflow/python/ops/nn_impl.py:179: add_dispatch_support.<locals>.wrapper (from tensorflow.python.ops.array_ops) is deprecated and will be removed in a future version.\n",
      "Instructions for updating:\n",
      "Use tf.where in 2.0, which has the same broadcast rule as np.where\n",
      "W0610 19:36:53.731640 140072833486976 deprecation_wrapper.py:119] From /home/aorus/workspaces/simge/PatchCamelyon/utils/comparams.py:9: The name tf.metrics.auc is deprecated. Please use tf.compat.v1.metrics.auc instead.\n",
      "\n",
      "W0610 19:36:53.777689 140072833486976 deprecation.py:323] From /home/aorus/workspaces/simge/PatchCamelyon/.env/lib/python3.6/site-packages/tensorflow/python/ops/metrics_impl.py:808: div (from tensorflow.python.ops.math_ops) is deprecated and will be removed in a future version.\n",
      "Instructions for updating:\n",
      "Deprecated in favor of operator or tf.math.divide.\n"
     ]
    }
   ],
   "source": [
    "model_vgg16 = load_model('Model/vgg16_model_bin_cross_arch_2_lr_0_0001.h5', custom_objects=dependencies)"
   ]
  },
  {
   "cell_type": "code",
   "execution_count": 11,
   "metadata": {},
   "outputs": [],
   "source": [
    "for i, layer in enumerate(model_vgg16.layers):\n",
    "    model_vgg16.layers[i].trainable = False\n",
    "    model_vgg16.layers[i].name = '{}_{}'.format(layer.name, 'vgg16')"
   ]
  },
  {
   "cell_type": "code",
   "execution_count": 12,
   "metadata": {},
   "outputs": [],
   "source": [
    "vgg16_out = model_vgg16.layers[-2].output"
   ]
  },
  {
   "cell_type": "markdown",
   "metadata": {},
   "source": [
    "#### VGG19"
   ]
  },
  {
   "cell_type": "code",
   "execution_count": 13,
   "metadata": {},
   "outputs": [],
   "source": [
    "model_vgg19 = load_model('Model/vgg19_model_bin_cross_arch_2_lr_0_0001.h5', custom_objects=dependencies)"
   ]
  },
  {
   "cell_type": "code",
   "execution_count": 14,
   "metadata": {},
   "outputs": [],
   "source": [
    "for i, layer in enumerate(model_vgg19.layers):\n",
    "    model_vgg19.layers[i].trainable = False\n",
    "    model_vgg19.layers[i].name = '{}_{}'.format(layer.name, 'vgg19')"
   ]
  },
  {
   "cell_type": "code",
   "execution_count": 15,
   "metadata": {},
   "outputs": [],
   "source": [
    "vgg19_out = model_vgg19.layers[-2].output"
   ]
  },
  {
   "cell_type": "markdown",
   "metadata": {},
   "source": [
    "#### NASNET"
   ]
  },
  {
   "cell_type": "raw",
   "metadata": {},
   "source": [
    "model_nasnet = load_model('Model/.....h5', custom_objects=dependencies)"
   ]
  },
  {
   "cell_type": "raw",
   "metadata": {},
   "source": [
    "for i, layer in enumerate(model_nasnet.layers):\n",
    "    nasnet_model.layers[i].trainable = False\n",
    "    nasnet_model.layers[i].name = '{}_{}'.format(layer.name, 'nasnet')"
   ]
  },
  {
   "cell_type": "raw",
   "metadata": {},
   "source": [
    "nasnet_out = nasnet_model.layers[-2].output"
   ]
  },
  {
   "cell_type": "markdown",
   "metadata": {},
   "source": [
    "### Concatination"
   ]
  },
  {
   "cell_type": "code",
   "execution_count": 16,
   "metadata": {},
   "outputs": [],
   "source": [
    "outs = [vgg16_out, vgg19_out]#, nasnet_out]"
   ]
  },
  {
   "cell_type": "code",
   "execution_count": 17,
   "metadata": {},
   "outputs": [],
   "source": [
    "merge_0 = concatenate(outs)"
   ]
  },
  {
   "cell_type": "code",
   "execution_count": null,
   "metadata": {},
   "outputs": [],
   "source": [
    "x = Dense(128, activation='relu')(merge_0)\n",
    "output = Dense(2, activation='softmax', name='main_output')(x)"
   ]
  },
  {
   "cell_type": "code",
   "execution_count": 19,
   "metadata": {},
   "outputs": [],
   "source": [
    "model = Model(inputs=[model_vgg16.input, model_vgg19.input], outputs=output)\n",
    "# model = Model(inputs=[model_vgg16.input, model_vgg19.input, nasnet_model.input], outputs=output)"
   ]
  },
  {
   "cell_type": "code",
   "execution_count": 20,
   "metadata": {
    "scrolled": true
   },
   "outputs": [
    {
     "name": "stdout",
     "output_type": "stream",
     "text": [
      "__________________________________________________________________________________________________\n",
      "Layer (type)                    Output Shape         Param #     Connected to                     \n",
      "==================================================================================================\n",
      "input_1_vgg19 (InputLayer)      (None, 224, 224, 3)  0                                            \n",
      "__________________________________________________________________________________________________\n",
      "block1_conv1_vgg19 (Conv2D)     (None, 224, 224, 64) 1792        input_1_vgg19[0][0]              \n",
      "__________________________________________________________________________________________________\n",
      "block1_conv2_vgg19 (Conv2D)     (None, 224, 224, 64) 36928       block1_conv1_vgg19[0][0]         \n",
      "__________________________________________________________________________________________________\n",
      "input_2_vgg16 (InputLayer)      (None, 224, 224, 3)  0                                            \n",
      "__________________________________________________________________________________________________\n",
      "block1_pool_vgg19 (MaxPooling2D (None, 112, 112, 64) 0           block1_conv2_vgg19[0][0]         \n",
      "__________________________________________________________________________________________________\n",
      "block1_conv1_vgg16 (Conv2D)     (None, 224, 224, 64) 1792        input_2_vgg16[0][0]              \n",
      "__________________________________________________________________________________________________\n",
      "block2_conv1_vgg19 (Conv2D)     (None, 112, 112, 128 73856       block1_pool_vgg19[0][0]          \n",
      "__________________________________________________________________________________________________\n",
      "block1_conv2_vgg16 (Conv2D)     (None, 224, 224, 64) 36928       block1_conv1_vgg16[0][0]         \n",
      "__________________________________________________________________________________________________\n",
      "block2_conv2_vgg19 (Conv2D)     (None, 112, 112, 128 147584      block2_conv1_vgg19[0][0]         \n",
      "__________________________________________________________________________________________________\n",
      "block1_pool_vgg16 (MaxPooling2D (None, 112, 112, 64) 0           block1_conv2_vgg16[0][0]         \n",
      "__________________________________________________________________________________________________\n",
      "block2_pool_vgg19 (MaxPooling2D (None, 56, 56, 128)  0           block2_conv2_vgg19[0][0]         \n",
      "__________________________________________________________________________________________________\n",
      "block2_conv1_vgg16 (Conv2D)     (None, 112, 112, 128 73856       block1_pool_vgg16[0][0]          \n",
      "__________________________________________________________________________________________________\n",
      "block3_conv1_vgg19 (Conv2D)     (None, 56, 56, 256)  295168      block2_pool_vgg19[0][0]          \n",
      "__________________________________________________________________________________________________\n",
      "block2_conv2_vgg16 (Conv2D)     (None, 112, 112, 128 147584      block2_conv1_vgg16[0][0]         \n",
      "__________________________________________________________________________________________________\n",
      "block3_conv2_vgg19 (Conv2D)     (None, 56, 56, 256)  590080      block3_conv1_vgg19[0][0]         \n",
      "__________________________________________________________________________________________________\n",
      "block2_pool_vgg16 (MaxPooling2D (None, 56, 56, 128)  0           block2_conv2_vgg16[0][0]         \n",
      "__________________________________________________________________________________________________\n",
      "block3_conv3_vgg19 (Conv2D)     (None, 56, 56, 256)  590080      block3_conv2_vgg19[0][0]         \n",
      "__________________________________________________________________________________________________\n",
      "block3_conv1_vgg16 (Conv2D)     (None, 56, 56, 256)  295168      block2_pool_vgg16[0][0]          \n",
      "__________________________________________________________________________________________________\n",
      "block3_conv4_vgg19 (Conv2D)     (None, 56, 56, 256)  590080      block3_conv3_vgg19[0][0]         \n",
      "__________________________________________________________________________________________________\n",
      "block3_conv2_vgg16 (Conv2D)     (None, 56, 56, 256)  590080      block3_conv1_vgg16[0][0]         \n",
      "__________________________________________________________________________________________________\n",
      "block3_pool_vgg19 (MaxPooling2D (None, 28, 28, 256)  0           block3_conv4_vgg19[0][0]         \n",
      "__________________________________________________________________________________________________\n",
      "block3_conv3_vgg16 (Conv2D)     (None, 56, 56, 256)  590080      block3_conv2_vgg16[0][0]         \n",
      "__________________________________________________________________________________________________\n",
      "block4_conv1_vgg19 (Conv2D)     (None, 28, 28, 512)  1180160     block3_pool_vgg19[0][0]          \n",
      "__________________________________________________________________________________________________\n",
      "block3_pool_vgg16 (MaxPooling2D (None, 28, 28, 256)  0           block3_conv3_vgg16[0][0]         \n",
      "__________________________________________________________________________________________________\n",
      "block4_conv2_vgg19 (Conv2D)     (None, 28, 28, 512)  2359808     block4_conv1_vgg19[0][0]         \n",
      "__________________________________________________________________________________________________\n",
      "block4_conv1_vgg16 (Conv2D)     (None, 28, 28, 512)  1180160     block3_pool_vgg16[0][0]          \n",
      "__________________________________________________________________________________________________\n",
      "block4_conv3_vgg19 (Conv2D)     (None, 28, 28, 512)  2359808     block4_conv2_vgg19[0][0]         \n",
      "__________________________________________________________________________________________________\n",
      "block4_conv2_vgg16 (Conv2D)     (None, 28, 28, 512)  2359808     block4_conv1_vgg16[0][0]         \n",
      "__________________________________________________________________________________________________\n",
      "block4_conv4_vgg19 (Conv2D)     (None, 28, 28, 512)  2359808     block4_conv3_vgg19[0][0]         \n",
      "__________________________________________________________________________________________________\n",
      "block4_conv3_vgg16 (Conv2D)     (None, 28, 28, 512)  2359808     block4_conv2_vgg16[0][0]         \n",
      "__________________________________________________________________________________________________\n",
      "block4_pool_vgg19 (MaxPooling2D (None, 14, 14, 512)  0           block4_conv4_vgg19[0][0]         \n",
      "__________________________________________________________________________________________________\n",
      "block4_pool_vgg16 (MaxPooling2D (None, 14, 14, 512)  0           block4_conv3_vgg16[0][0]         \n",
      "__________________________________________________________________________________________________\n",
      "block5_conv1_vgg19 (Conv2D)     (None, 14, 14, 512)  2359808     block4_pool_vgg19[0][0]          \n",
      "__________________________________________________________________________________________________\n",
      "block5_conv1_vgg16 (Conv2D)     (None, 14, 14, 512)  2359808     block4_pool_vgg16[0][0]          \n",
      "__________________________________________________________________________________________________\n",
      "block5_conv2_vgg19 (Conv2D)     (None, 14, 14, 512)  2359808     block5_conv1_vgg19[0][0]         \n",
      "__________________________________________________________________________________________________\n",
      "block5_conv2_vgg16 (Conv2D)     (None, 14, 14, 512)  2359808     block5_conv1_vgg16[0][0]         \n",
      "__________________________________________________________________________________________________\n",
      "block5_conv3_vgg19 (Conv2D)     (None, 14, 14, 512)  2359808     block5_conv2_vgg19[0][0]         \n",
      "__________________________________________________________________________________________________\n",
      "block5_conv3_vgg16 (Conv2D)     (None, 14, 14, 512)  2359808     block5_conv2_vgg16[0][0]         \n",
      "__________________________________________________________________________________________________\n",
      "block5_conv4_vgg19 (Conv2D)     (None, 14, 14, 512)  2359808     block5_conv3_vgg19[0][0]         \n",
      "__________________________________________________________________________________________________\n",
      "block5_pool_vgg16 (MaxPooling2D (None, 7, 7, 512)    0           block5_conv3_vgg16[0][0]         \n",
      "__________________________________________________________________________________________________\n",
      "block5_pool_vgg19 (MaxPooling2D (None, 7, 7, 512)    0           block5_conv4_vgg19[0][0]         \n",
      "__________________________________________________________________________________________________\n",
      "global_average_pooling2d_1_vgg1 (None, 512)          0           block5_pool_vgg16[0][0]          \n",
      "__________________________________________________________________________________________________\n",
      "global_average_pooling2d_1_vgg1 (None, 512)          0           block5_pool_vgg19[0][0]          \n",
      "__________________________________________________________________________________________________\n",
      "dense_1_vgg16 (Dense)           (None, 256)          131328      global_average_pooling2d_1_vgg16[\n",
      "__________________________________________________________________________________________________\n",
      "dense_1_vgg19 (Dense)           (None, 256)          131328      global_average_pooling2d_1_vgg19[\n",
      "__________________________________________________________________________________________________\n",
      "concatenate_1 (Concatenate)     (None, 512)          0           dense_1_vgg16[0][0]              \n",
      "                                                                 dense_1_vgg19[0][0]              \n",
      "__________________________________________________________________________________________________\n",
      "main_output (Dense)             (None, 2)            1026        concatenate_1[0][0]              \n",
      "==================================================================================================\n",
      "Total params: 35,002,754\n",
      "Trainable params: 1,026\n",
      "Non-trainable params: 35,001,728\n",
      "__________________________________________________________________________________________________\n"
     ]
    }
   ],
   "source": [
    "model.summary()"
   ]
  },
  {
   "cell_type": "markdown",
   "metadata": {},
   "source": [
    "### Compile"
   ]
  },
  {
   "cell_type": "code",
   "execution_count": 21,
   "metadata": {},
   "outputs": [],
   "source": [
    "learning_rate_reduction = ReduceLROnPlateau(monitor='val_acc', \n",
    "                                            patience=2,\n",
    "                                            verbose=1, \n",
    "                                            factor=0.5, \n",
    "                                            min_lr=0.00001)"
   ]
  },
  {
   "cell_type": "code",
   "execution_count": 22,
   "metadata": {},
   "outputs": [],
   "source": [
    "optimizer = Adam(lr=0.001)\n",
    "loss = 'binary_crossentropy'\n",
    "metrics = ['acc']#, auc]"
   ]
  },
  {
   "cell_type": "code",
   "execution_count": 23,
   "metadata": {},
   "outputs": [],
   "source": [
    "model.compile(optimizer, loss, metrics)"
   ]
  },
  {
   "cell_type": "markdown",
   "metadata": {},
   "source": [
    "## Data Generator"
   ]
  },
  {
   "cell_type": "code",
   "execution_count": 25,
   "metadata": {},
   "outputs": [],
   "source": [
    "model_name = 'ensemble_2_model_bin_cross_arch_2_lr_0_0001'"
   ]
  },
  {
   "cell_type": "code",
   "execution_count": null,
   "metadata": {},
   "outputs": [],
   "source": [
    "generator_num = len(outs)"
   ]
  },
  {
   "cell_type": "code",
   "execution_count": 26,
   "metadata": {},
   "outputs": [],
   "source": [
    "# Define batch size.\n",
    "batch_size = 128\n",
    "n_epoch = 10\n",
    "\n",
    "# Parameters for generators\n",
    "train_params = {\n",
    "    'dim': (224, 224),\n",
    "    'batch_size': batch_size,\n",
    "    'n_classes': 2,\n",
    "    'aug': True,\n",
    "}\n",
    "\n",
    "val_params = {\n",
    "    'dim': (224, 224),\n",
    "    'batch_size': batch_size,\n",
    "    'n_classes': 2,\n",
    "    'aug': False,\n",
    "}\n",
    "\n",
    "# Generators\n",
    "training_generator = multiple_batch_generator(generator_num, list_IDs=partition['train'],\n",
    "                                              data=x_train, labels=train_labels, **train_params)\n",
    "validation_generator = multiple_batch_generator(generator_num, list_IDs=partition['validation'],\n",
    "                                                data=x_valid, labels=val_labels, **val_params)\n",
    "\n",
    "# Callbacks,\n",
    "callbacks = [PlotCurves(model_name=model_name), learning_rate_reduction]"
   ]
  },
  {
   "cell_type": "markdown",
   "metadata": {},
   "source": [
    "### Fit Generator"
   ]
  },
  {
   "cell_type": "code",
   "execution_count": 29,
   "metadata": {},
   "outputs": [],
   "source": [
    "steps = int(len(y_train)/batch_size)\n",
    "val_steps= int(len(y_valid)/batch_size)"
   ]
  },
  {
   "cell_type": "code",
   "execution_count": 30,
   "metadata": {
    "scrolled": false
   },
   "outputs": [
    {
     "data": {
      "image/png": "[encoded data removed]",
      "text/plain": [
       "<Figure size 720x360 with 1 Axes>"
      ]
     },
     "metadata": {
      "needs_background": "light"
     },
     "output_type": "display_data"
    },
    {
     "data": {
      "text/plain": [
       "<keras.callbacks.History at 0x7f8986444320>"
      ]
     },
     "execution_count": 30,
     "metadata": {},
     "output_type": "execute_result"
    }
   ],
   "source": [
    "# Training with learning \n",
    "model.fit_generator(training_generator, validation_data=validation_generator, \n",
    "                    epochs=n_epoch, callbacks=callbacks, steps_per_epoch=steps, validation_steps=val_steps)"
   ]
  },
  {
   "cell_type": "code",
   "execution_count": null,
   "metadata": {},
   "outputs": [],
   "source": []
  }
 ],
 "metadata": {
  "kernelspec": {
   "display_name": "Python 3",
   "language": "python",
   "name": "python3"
  },
  "language_info": {
   "codemirror_mode": {
    "name": "ipython",
    "version": 3
   },
   "file_extension": ".py",
   "mimetype": "text/x-python",
   "name": "python",
   "nbconvert_exporter": "python",
   "pygments_lexer": "ipython3",
   "version": "3.6.8"
  }
 },
 "nbformat": 4,
 "nbformat_minor": 2
}
