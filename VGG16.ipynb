{
 "cells": [
  {
   "cell_type": "code",
   "execution_count": 1,
   "metadata": {},
   "outputs": [],
   "source": [
    "%load_ext autoreload\n",
    "%autoreload 2"
   ]
  },
  {
   "cell_type": "code",
   "execution_count": 2,
   "metadata": {},
   "outputs": [
    {
     "name": "stderr",
     "output_type": "stream",
     "text": [
      "Using TensorFlow backend.\n"
     ]
    }
   ],
   "source": [
    "import os\n",
    "import numpy as np\n",
    "\n",
    "from keras.callbacks import ReduceLROnPlateau\n",
    "from keras.models import Model, load_model\n",
    "from keras.optimizers import SGD, Adam \n",
    "from keras.layers import Dense, Dropout, GlobalAveragePooling2D, GlobalMaxPooling2D, Flatten, Concatenate \n",
    "# Conv2D, Input, Flatten, MaxPooling2D, UpSampling2D, concatenate, Cropping2D, Reshape, BatchNormalization\n",
    "\n",
    "from keras.applications.vgg16 import VGG16\n",
    "\n",
    "%matplotlib inline"
   ]
  },
  {
   "cell_type": "code",
   "execution_count": 3,
   "metadata": {},
   "outputs": [],
   "source": [
    "from utils.preprocess import DataGenerator\n",
    "from utils.callbacks import PlotCurves\n",
    "from utils.load_data import load_data\n",
    "from utils.comparams import auc"
   ]
  },
  {
   "cell_type": "markdown",
   "metadata": {},
   "source": [
    "### Data Generator"
   ]
  },
  {
   "cell_type": "code",
   "execution_count": 4,
   "metadata": {},
   "outputs": [],
   "source": [
    "data_dir = '/projects/0/ismi2018/PATCHCAMELYON/'"
   ]
  },
  {
   "cell_type": "code",
   "execution_count": 5,
   "metadata": {},
   "outputs": [
    {
     "data": {
      "text/plain": [
       "(10000, 10000)"
      ]
     },
     "execution_count": 5,
     "metadata": {},
     "output_type": "execute_result"
    }
   ],
   "source": [
    "x_train, y_train, x_valid, y_valid = load_data(data_dir, purpose='train', limit=10000, val_limit=10000)\n",
    "len(x_train), len(x_valid)"
   ]
  },
  {
   "cell_type": "code",
   "execution_count": 6,
   "metadata": {},
   "outputs": [],
   "source": [
    "# indexes\n",
    "train_id = np.arange(len(x_train))\n",
    "val_id = np.arange(len(x_valid))\n",
    "\n",
    "# create a useful dictionary structures\n",
    "partition = {}\n",
    "partition['train'] = train_id\n",
    "partition['validation'] = val_id\n",
    "    \n",
    "train_labels = {str(i) : y_train[i].flatten()[0] for i in train_id}\n",
    "val_labels = {str(i) : y_valid[i].flatten()[0] for i in val_id}"
   ]
  },
  {
   "cell_type": "code",
   "execution_count": 7,
   "metadata": {},
   "outputs": [],
   "source": [
    "del train_id\n",
    "del val_id\n",
    "del data_dir"
   ]
  },
  {
   "cell_type": "markdown",
   "metadata": {},
   "source": [
    "## MODEL"
   ]
  },
  {
   "cell_type": "code",
   "execution_count": 8,
   "metadata": {},
   "outputs": [],
   "source": [
    "def build_arch_2_net():\n",
    "    \n",
    "    vgg16 = VGG16(weights='imagenet', include_top=False, input_shape=(224,224,3))\n",
    "    x = vgg16.output\n",
    "    x = GlobalAveragePooling2D()(x)\n",
    "    x = Dense(256, activation='relu')(x)\n",
    "    y = Dense(2, activation='softmax')(x) # sigmoid instead of softmax to have independent probabilities\n",
    "    model = Model(inputs=vgg16.input, outputs=y)\n",
    "    \n",
    "    # Train only the top layer\n",
    "    for layer in vgg16.layers:\n",
    "        layer.trainable = False\n",
    "\n",
    "    return model\n",
    "\n",
    "def build_arch_4_net():\n",
    "    \n",
    "    vgg16 = VGG16(weights='imagenet', include_top=False, input_shape=(224,224,3))\n",
    "    x = vgg16.output\n",
    "    x = GlobalAveragePooling2D()(x)\n",
    "    x = Dense(256, activation='relu')(x)\n",
    "    x = Dropout(0.2)(x)\n",
    "    y = Dense(2, activation='softmax')(x) # sigmoid instead of softmax to have independent probabilities\n",
    "    model = Model(inputs=vgg16.input, outputs=y)\n",
    "    \n",
    "    # Train only the top layer\n",
    "    for layer in vgg16.layers:\n",
    "        layer.trainable = False\n",
    "\n",
    "    return model\n",
    "\n",
    "def build_arch_5_net():\n",
    "    \n",
    "    vgg16 = VGG16(weights='imagenet', include_top=False, input_shape=(224,224,3))\n",
    "    x = vgg16.output\n",
    "    x = GlobalAveragePooling2D()(x)\n",
    "    x = Dense(128, activation='relu')(x)\n",
    "    x = Dropout(0.2)(x)\n",
    "    y = Dense(2, activation='softmax')(x)\n",
    "    model = Model(inputs=vgg16.input, outputs=y)\n",
    "    \n",
    "    # Train only the top layer\n",
    "    for layer in vgg16.layers:\n",
    "        layer.trainable = False\n",
    "\n",
    "    return model\n",
    "\n",
    "def build_arch_6_net():\n",
    "    \n",
    "    vgg16 = VGG16(weights='imagenet', include_top=False, input_shape=(224,224,3))\n",
    "    x = vgg16.output\n",
    "    out1 = GlobalMaxPooling2D()(x)\n",
    "    out2 = GlobalAveragePooling2D()(x)\n",
    "    out3 = Flatten()(x)\n",
    "    out = Concatenate(axis=-1)([out1, out2, out3])\n",
    "    out = Dropout(0.5)(out)\n",
    "    y = Dense(2, activation='softmax')(out) # sigmoid instead of softmax to have independent probabilities\n",
    "\n",
    "    model = Model(inputs=vgg16.input, outputs=y)\n",
    "    \n",
    "    # Train only the top layer\n",
    "    for layer in vgg16.layers:\n",
    "        layer.trainable = False\n",
    "\n",
    "    return model\n",
    "\n",
    "\n",
    "def build_arch_8_net():\n",
    "    \n",
    "    vgg16 = VGG16(weights='imagenet', include_top=False, input_shape=(224,224,3))\n",
    "    x = vgg16.output\n",
    "    x = GlobalAveragePooling2D()(x)\n",
    "    x = Dense(128, activation='relu')(x)\n",
    "    y = Dense(2, activation='softmax')(x)\n",
    "    model = Model(inputs=vgg16.input, outputs=y)\n",
    "    \n",
    "    # Train only the top layer\n",
    "    for layer in vgg16.layers:\n",
    "        layer.trainable = False\n",
    "\n",
    "    return model"
   ]
  },
  {
   "cell_type": "code",
   "execution_count": 9,
   "metadata": {},
   "outputs": [],
   "source": [
    "model = build_arch_8_net()"
   ]
  },
  {
   "cell_type": "markdown",
   "metadata": {},
   "source": [
    "### Compile"
   ]
  },
  {
   "cell_type": "code",
   "execution_count": 10,
   "metadata": {},
   "outputs": [],
   "source": [
    "learning_rate_reduction = ReduceLROnPlateau(monitor='val_acc', \n",
    "                                            patience=2,\n",
    "                                            verbose=1, \n",
    "                                            factor=0.5, \n",
    "                                            min_lr=0.000005)"
   ]
  },
  {
   "cell_type": "code",
   "execution_count": 11,
   "metadata": {},
   "outputs": [],
   "source": [
    "optimizer = Adam(lr=0.001)#, beta_1=0.9, beta_2=0.999)\n",
    "loss = 'binary_crossentropy'\n",
    "# categorical_crossentropy\n",
    "metrics = ['acc', auc]"
   ]
  },
  {
   "cell_type": "code",
   "execution_count": 12,
   "metadata": {},
   "outputs": [],
   "source": [
    "model.compile(optimizer, loss, metrics)"
   ]
  },
  {
   "cell_type": "markdown",
   "metadata": {},
   "source": [
    "## Train the model"
   ]
  },
  {
   "cell_type": "code",
   "execution_count": 13,
   "metadata": {},
   "outputs": [],
   "source": [
    "# directory to save the best model\n",
    "file_dir = './Model'\n",
    "if not os.path.exists(file_dir):\n",
    "    os.mkdir(file_dir)\n",
    "    \n",
    "model_name = 'vgg16_model_bin_cross_arch_8_lr_0_0001' \n",
    "    \n",
    "network_filepath = os.path.join(file_dir, model_name + '.h5')"
   ]
  },
  {
   "cell_type": "code",
   "execution_count": 14,
   "metadata": {},
   "outputs": [],
   "source": [
    "# Define batch size.\n",
    "batch_size = 128\n",
    "n_epoch = 10\n",
    "# time_limit = 500 # time limit in minute (500 -> 8 hrs and 20 min)\n",
    "\n",
    "# Parameters for generators\n",
    "params = {\n",
    "    'dim': (224, 224),\n",
    "    'batch_size': batch_size,\n",
    "    'n_classes': 2,\n",
    "    'shuffle': True\n",
    "}\n",
    "\n",
    "# Generators\n",
    "training_generator = DataGenerator(partition['train'], x_train, train_labels, **params)\n",
    "validation_generator = DataGenerator(partition['validation'], x_valid, val_labels, **params)\n",
    "\n",
    "# #a function to save last_model compatible with the on_interrupt handler of TimerCallback\n",
    "# def saveWeights(model, elapsed):\n",
    "#     model.save_weights(os.path.join(file_dir, model_name + '_weights.h5'))\n",
    "\n",
    "\n",
    "# Callbacks,\n",
    "callbacks = [PlotCurves(model_name=model_name), learning_rate_reduction]#, TimerCallback(1, on_interrupt=saveWeights)]\n",
    "#roc_callback(training_data=training_generator,validation_data=validation_generator)"
   ]
  },
  {
   "cell_type": "code",
   "execution_count": null,
   "metadata": {},
   "outputs": [],
   "source": [
    "del x_train\n",
    "del x_valid\n",
    "del y_train\n",
    "del y_valid\n",
    "del train_labels\n",
    "del val_labels"
   ]
  },
  {
   "cell_type": "code",
   "execution_count": null,
   "metadata": {},
   "outputs": [
    {
     "name": "stdout",
     "output_type": "stream",
     "text": [
      "Epoch 1/10\n"
     ]
    }
   ],
   "source": [
    "# Training with 10K again\n",
    "model.fit_generator(training_generator, validation_data=validation_generator, \n",
    "                    epochs=n_epoch, callbacks=callbacks)"
   ]
  },
  {
   "cell_type": "code",
   "execution_count": null,
   "metadata": {},
   "outputs": [],
   "source": [
    "model.save(network_filepath)"
   ]
  },
  {
   "cell_type": "code",
   "execution_count": 1,
   "metadata": {},
   "outputs": [],
   "source": [
    "import random"
   ]
  },
  {
   "cell_type": "code",
   "execution_count": 19,
   "metadata": {},
   "outputs": [
    {
     "data": {
      "text/plain": [
       "3"
      ]
     },
     "execution_count": 19,
     "metadata": {},
     "output_type": "execute_result"
    }
   ],
   "source": [
    "random.getrandbits(2)"
   ]
  },
  {
   "cell_type": "code",
   "execution_count": null,
   "metadata": {},
   "outputs": [],
   "source": []
  },
  {
   "cell_type": "code",
   "execution_count": null,
   "metadata": {},
   "outputs": [],
   "source": []
  }
 ],
 "metadata": {
  "kernelspec": {
   "display_name": "Python 3",
   "language": "python",
   "name": "python3"
  },
  "language_info": {
   "codemirror_mode": {
    "name": "ipython",
    "version": 3
   },
   "file_extension": ".py",
   "mimetype": "text/x-python",
   "name": "python",
   "nbconvert_exporter": "python",
   "pygments_lexer": "ipython3",
   "version": "3.5.2"
  }
 },
 "nbformat": 4,
 "nbformat_minor": 2
}
